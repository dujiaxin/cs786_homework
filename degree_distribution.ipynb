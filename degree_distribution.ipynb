{
  "nbformat": 4,
  "nbformat_minor": 0,
  "metadata": {
    "colab": {
      "name": "degree_dis.ipynb",
      "provenance": [],
      "toc_visible": true,
      "include_colab_link": true
    },
    "kernelspec": {
      "name": "python3",
      "display_name": "Python 3"
    }
  },
  "cells": [
    {
      "cell_type": "markdown",
      "metadata": {
        "id": "view-in-github",
        "colab_type": "text"
      },
      "source": [
        "<a href=\"https://colab.research.google.com/github/dujiaxin/cs786_homework/blob/master/degree_distribution.ipynb\" target=\"_parent\"><img src=\"https://colab.research.google.com/assets/colab-badge.svg\" alt=\"Open In Colab\"/></a>"
      ]
    },
    {
      "cell_type": "code",
      "metadata": {
        "id": "6l8BDWMZ7ZgV",
        "colab_type": "code",
        "outputId": "022beeaf-1d0a-48d1-bbd9-482c263cb0d2",
        "colab": {
          "base_uri": "https://localhost:8080/",
          "height": 34
        }
      },
      "source": [
        "from google.colab import drive\n",
        "drive.mount('/content/drive', force_remount=True)"
      ],
      "execution_count": 31,
      "outputs": [
        {
          "output_type": "stream",
          "text": [
            "Mounted at /content/drive\n"
          ],
          "name": "stdout"
        }
      ]
    },
    {
      "cell_type": "code",
      "metadata": {
        "id": "XFBv5gbZhfHc",
        "colab_type": "code",
        "colab": {}
      },
      "source": [
        "filepath = '/content/drive/My Drive/rmat.gr'"
      ],
      "execution_count": 0,
      "outputs": []
    },
    {
      "cell_type": "code",
      "metadata": {
        "id": "KlTpmvIW67Gk",
        "colab_type": "code",
        "colab": {}
      },
      "source": [
        "in_dict = {}\n",
        "out_dict = {}\n",
        "\n",
        "with open(filepath) as fp:\n",
        "  flag = False\n",
        "\n",
        "  line = fp.readline()\n",
        "  cnt = 1\n",
        "\n",
        "  while line:\n",
        "\n",
        "    line = fp.readline()\n",
        "    cnt += 1\n",
        "\n",
        "    line_list = line.split(\" \")\n",
        "    # print(line_list)\n",
        "    if len(line_list) < 4:\n",
        "      break\n",
        "   \n",
        "    if line_list[0] == 'p':\n",
        "      flag = True\n",
        "      continue\n",
        "    \n",
        "    if flag == False:\n",
        "      continue\n",
        "    \n",
        "    # print(\"Line {}: {}\".format(cnt, line.strip()))\n",
        "    out_node = int(line_list[1])\n",
        "    in_node = int(line_list[2])\n",
        "    weight = int(line_list[3])\n",
        "\n",
        "    if in_node not in in_dict:\n",
        "      in_dict[in_node] = 0\n",
        "    in_dict[in_node] += 1\n",
        "\n",
        "    if out_node not in out_dict:\n",
        "      out_dict[out_node] = 0\n",
        "    out_dict[out_node] += 1\n",
        "\n",
        "print(\"done\")\n"
      ],
      "execution_count": 0,
      "outputs": []
    },
    {
      "cell_type": "code",
      "metadata": {
        "id": "s_AZLi5lOdef",
        "colab_type": "code",
        "colab": {}
      },
      "source": [
        "from pprint import pprint"
      ],
      "execution_count": 0,
      "outputs": []
    },
    {
      "cell_type": "code",
      "metadata": {
        "id": "WMnmGodMOhLM",
        "colab_type": "code",
        "colab": {}
      },
      "source": [
        "# pprint(sum(out_dict.values()))"
      ],
      "execution_count": 0,
      "outputs": []
    },
    {
      "cell_type": "code",
      "metadata": {
        "id": "65MLXwWTPbkr",
        "colab_type": "code",
        "colab": {}
      },
      "source": [
        "# import operator\n",
        "# max_k = max(out_dict.items(), key=operator.itemgetter(1))[0]\n",
        "# max_v = max(out_dict.items(), key=operator.itemgetter(1))[1]\n",
        "# print(max_k)\n",
        "# print(max_v)"
      ],
      "execution_count": 0,
      "outputs": []
    },
    {
      "cell_type": "code",
      "metadata": {
        "id": "lh-1DlTKRBby",
        "colab_type": "code",
        "colab": {}
      },
      "source": [
        "import matplotlib.pyplot as plt"
      ],
      "execution_count": 0,
      "outputs": []
    },
    {
      "cell_type": "code",
      "metadata": {
        "id": "Z2atvAm7TPy_",
        "colab_type": "code",
        "colab": {}
      },
      "source": [
        "import operator\n",
        "sorted_out_dict = sorted(out_dict.items(), key=operator.itemgetter(0))\n",
        "sorted_in_dict = sorted(in_dict.items(), key=operator.itemgetter(0))"
      ],
      "execution_count": 0,
      "outputs": []
    },
    {
      "cell_type": "code",
      "metadata": {
        "id": "iyV_5toHTl5K",
        "colab_type": "code",
        "colab": {}
      },
      "source": [
        "# print(sorted_out_dict)"
      ],
      "execution_count": 0,
      "outputs": []
    },
    {
      "cell_type": "code",
      "metadata": {
        "id": "6MQShPptO1Zy",
        "colab_type": "code",
        "colab": {}
      },
      "source": [
        "out_degree_dict = {}\n",
        "in_degree_dict = {}\n",
        "\n",
        "\n",
        "\n",
        "for n, o in sorted_out_dict:\n",
        "\n",
        "  if o not in out_degree_dict:\n",
        "    out_degree_dict[o] = 0\n",
        "  out_degree_dict[o] += 1\n",
        "\n",
        "\n",
        "\n",
        "for n, o in sorted_in_dict:\n",
        "\n",
        "  if o not in in_degree_dict:\n",
        "    in_degree_dict[o] = 0\n",
        "  in_degree_dict[o] += 1\n"
      ],
      "execution_count": 0,
      "outputs": []
    },
    {
      "cell_type": "code",
      "metadata": {
        "id": "twN5O4TzdVxL",
        "colab_type": "code",
        "colab": {}
      },
      "source": [
        "print(out_degree_dict)\n",
        "print(in_degree_dict)"
      ],
      "execution_count": 0,
      "outputs": []
    },
    {
      "cell_type": "code",
      "metadata": {
        "id": "YtZh9QRud8fk",
        "colab_type": "code",
        "colab": {}
      },
      "source": [
        "on = []\n",
        "ox = []\n",
        "oy = []\n",
        "\n",
        "point_sum = sum(out_degree_dict.values())\n",
        "\n",
        "for d,c in out_degree_dict.items():\n",
        "  on.append(d)\n",
        "  ox.append(c)\n",
        "  oy.append(c/point_sum)"
      ],
      "execution_count": 0,
      "outputs": []
    },
    {
      "cell_type": "code",
      "metadata": {
        "id": "rCBi9ifenSZX",
        "colab_type": "code",
        "colab": {}
      },
      "source": [
        "print(on)\n",
        "print(ox)\n",
        "print(oy)"
      ],
      "execution_count": 0,
      "outputs": []
    },
    {
      "cell_type": "code",
      "metadata": {
        "id": "70NAmcO_xkvL",
        "colab_type": "code",
        "colab": {}
      },
      "source": [
        "print(sum(oy))"
      ],
      "execution_count": 0,
      "outputs": []
    },
    {
      "cell_type": "code",
      "metadata": {
        "id": "UkpJj208V3dh",
        "colab_type": "code",
        "colab": {}
      },
      "source": [
        "bins = sorted(on.copy())\n",
        "plt.plot(bins, [out_degree_dict[i]/sum(out_degree_dict.values()) for i in bins], 'r--')\n",
        "plt.bar(on,oy) # A bar chart\n",
        "plt.title('out degree distribution')\n",
        "plt.xlabel('out degree')\n",
        "plt.ylabel('probability')\n",
        "plt.show()"
      ],
      "execution_count": 0,
      "outputs": []
    },
    {
      "cell_type": "code",
      "metadata": {
        "id": "szuucaYKgz7M",
        "colab_type": "code",
        "colab": {}
      },
      "source": [
        "inn  = []\n",
        "inx = []\n",
        "iny = []\n",
        "\n",
        "point_sum = sum(in_degree_dict.values())\n",
        "\n",
        "for d,c in in_degree_dict.items():\n",
        "  inn.append(d)\n",
        "  inx.append(c)\n",
        "  iny.append(c/point_sum)"
      ],
      "execution_count": 0,
      "outputs": []
    },
    {
      "cell_type": "code",
      "metadata": {
        "id": "OW-TwIwDhNnm",
        "colab_type": "code",
        "colab": {}
      },
      "source": [
        "bins = sorted(inn.copy())\n",
        "\n",
        "plt.bar(inn,iny) # A bar chart\n",
        "plt.plot(bins, [in_degree_dict[i]/sum(in_degree_dict.values()) for i in bins], 'r--')\n",
        "plt.title('in degree distribution')\n",
        "plt.xlabel('in degree')\n",
        "plt.ylabel('probability')\n",
        "plt.show()"
      ],
      "execution_count": 0,
      "outputs": []
    }
  ]
}